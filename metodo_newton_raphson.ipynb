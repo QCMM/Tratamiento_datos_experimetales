{
 "cells": [
  {
   "cell_type": "markdown",
   "metadata": {},
   "source": [
    "# Python notebook \"Raices ecuaciones algebraicas\"\n",
    "\n",
    "Tratamiento de Datos Experimentales (530.307) \n",
    "\n",
    "Author: Esteban Vöhringer-Martinez"
   ]
  },
  {
   "cell_type": "markdown",
   "metadata": {},
   "source": [
    "# Determinar la concentración en equilibrio \n",
    "\n",
    "En algunos casos el polinomio a resolver es de orden mayor o igual a 3 y no se puede resolver analiticamente.\n",
    "\n",
    "\n",
    "Ejemplo: $CH_4(g) + 2 H_2O(g) <=> CO_2(g) + 4 H_2(g)$\n",
    "\n",
    "\n",
    "Tarea: Determine la concentación en equilibrio partiendo de 1 mol de metano y 1 mol de agua"
   ]
  },
  {
   "cell_type": "code",
   "execution_count": 1,
   "metadata": {
    "collapsed": true
   },
   "outputs": [],
   "source": [
    "import numpy as np\n",
    "import matplotlib.pyplot as plt\n",
    "%matplotlib inline"
   ]
  },
  {
   "cell_type": "code",
   "execution_count": 2,
   "metadata": {
    "collapsed": true
   },
   "outputs": [],
   "source": [
    "def f(x):\n",
    "     return 256*x**5-0.74*(1-x)*(1-2*x)**2"
   ]
  },
  {
   "cell_type": "code",
   "execution_count": 3,
   "metadata": {
    "collapsed": true
   },
   "outputs": [],
   "source": [
    "x = np.linspace(1,-1,num=100)"
   ]
  },
  {
   "cell_type": "code",
   "execution_count": 4,
   "metadata": {
    "collapsed": true
   },
   "outputs": [],
   "source": [
    "y = f(x)"
   ]
  },
  {
   "cell_type": "code",
   "execution_count": 5,
   "metadata": {},
   "outputs": [
    {
     "data": {
      "image/png": "[encoded data removed]",
      "text/plain": [
       "<Figure size 432x288 with 1 Axes>"
      ]
     },
     "metadata": {},
     "output_type": "display_data"
    }
   ],
   "source": [
    "plt.plot(x,y)\n",
    "plt.grid(True)"
   ]
  },
  {
   "cell_type": "code",
   "execution_count": 6,
   "metadata": {},
   "outputs": [
    {
     "data": {
      "image/png": "[encoded data removed]",
      "text/plain": [
       "<Figure size 432x288 with 1 Axes>"
      ]
     },
     "metadata": {},
     "output_type": "display_data"
    }
   ],
   "source": [
    "x = np.linspace(0.2,0.25,num=100)\n",
    "y = f(x)\n",
    "plt.plot(x,y)\n",
    "plt.grid(True)"
   ]
  },
  {
   "cell_type": "markdown",
   "metadata": {},
   "source": [
    "# Métodos cerrados para la busqueda de raices"
   ]
  },
  {
   "cell_type": "markdown",
   "metadata": {},
   "source": [
    "## Método de la bisección"
   ]
  },
  {
   "cell_type": "code",
   "execution_count": 7,
   "metadata": {
    "collapsed": true
   },
   "outputs": [],
   "source": [
    "def bisection(a,b,tol):\n",
    "    iter = 0\n",
    "    c = (a+b)/2.0\n",
    "    while (b-a) > tol: \n",
    "        if f(c) == 0:\n",
    "            return c\n",
    "        elif f(a)*f(c) < 0:\n",
    "            b = c\n",
    "        else:\n",
    "            a = c\n",
    "        c_nuevo = (a+b)/2.0\n",
    "        error_rel = (c_nuevo - c) / c_nuevo * 100\n",
    "        c = c_nuevo\n",
    "        print('Iteracion {0:d} c = {1:1.5f} a = {2:1.5f} b = {3:1.5f} error rel. = {4:.5f}%'.format(iter,c,a,b,error_rel))\n",
    "        iter += 1\n",
    "    return c"
   ]
  },
  {
   "cell_type": "code",
   "execution_count": 9,
   "metadata": {},
   "outputs": [
    {
     "name": "stdout",
     "output_type": "stream",
     "text": [
      "Iteracion 0 c = 0.23500 a = 0.23000 b = 0.24000 error rel. = 2.12766%\n",
      "Iteracion 1 c = 0.23250 a = 0.23000 b = 0.23500 error rel. = -1.07527%\n",
      "Iteracion 2 c = 0.23125 a = 0.23000 b = 0.23250 error rel. = -0.54054%\n",
      "Iteracion 3 c = 0.23062 a = 0.23000 b = 0.23125 error rel. = -0.27100%\n",
      "Iteracion 4 c = 0.23031 a = 0.23000 b = 0.23062 error rel. = -0.13569%\n",
      "Iteracion 5 c = 0.23016 a = 0.23000 b = 0.23031 error rel. = -0.06789%\n",
      "Iteracion 6 c = 0.23023 a = 0.23016 b = 0.23031 error rel. = 0.03393%\n",
      "Iteracion 7 c = 0.23027 a = 0.23023 b = 0.23031 error rel. = 0.01696%\n",
      "Iteracion 8 c = 0.23029 a = 0.23027 b = 0.23031 error rel. = 0.00848%\n",
      "Iteracion 9 c = 0.23028 a = 0.23027 b = 0.23029 error rel. = -0.00424%\n",
      "Iteracion 10 c = 0.23028 a = 0.23027 b = 0.23028 error rel. = -0.00212%\n",
      "Iteracion 11 c = 0.23028 a = 0.23027 b = 0.23028 error rel. = -0.00106%\n",
      "Iteracion 12 c = 0.23027 a = 0.23027 b = 0.23028 error rel. = -0.00053%\n",
      "Iteracion 13 c = 0.23028 a = 0.23027 b = 0.23028 error rel. = 0.00027%\n",
      "Iteracion 14 c = 0.23027 a = 0.23027 b = 0.23028 error rel. = -0.00013%\n",
      "Iteracion 15 c = 0.23027 a = 0.23027 b = 0.23027 error rel. = -0.00007%\n",
      "Iteracion 16 c = 0.23027 a = 0.23027 b = 0.23027 error rel. = -0.00003%\n",
      "Iteracion 17 c = 0.23027 a = 0.23027 b = 0.23027 error rel. = -0.00002%\n",
      "Iteracion 18 c = 0.23027 a = 0.23027 b = 0.23027 error rel. = -0.00001%\n",
      "Iteracion 19 c = 0.23027 a = 0.23027 b = 0.23027 error rel. = 0.00000%\n",
      "Iteracion 20 c = 0.23027 a = 0.23027 b = 0.23027 error rel. = -0.00000%\n",
      "Iteracion 21 c = 0.23027 a = 0.23027 b = 0.23027 error rel. = -0.00000%\n",
      "Iteracion 22 c = 0.23027 a = 0.23027 b = 0.23027 error rel. = 0.00000%\n",
      "Iteracion 23 c = 0.23027 a = 0.23027 b = 0.23027 error rel. = 0.00000%\n",
      "Iteracion 24 c = 0.23027 a = 0.23027 b = 0.23027 error rel. = -0.00000%\n",
      "Iteracion 25 c = 0.23027 a = 0.23027 b = 0.23027 error rel. = 0.00000%\n",
      "Iteracion 26 c = 0.23027 a = 0.23027 b = 0.23027 error rel. = -0.00000%\n",
      "Iteracion 27 c = 0.23027 a = 0.23027 b = 0.23027 error rel. = -0.00000%\n"
     ]
    },
    {
     "data": {
      "text/plain": [
       "0.23027468118816616"
      ]
     },
     "execution_count": 9,
     "metadata": {},
     "output_type": "execute_result"
    }
   ],
   "source": [
    "bisection(0.22,0.24,1e-10)"
   ]
  },
  {
   "cell_type": "markdown",
   "metadata": {},
   "source": [
    "### Con criterio de convergencia de error relativo\n",
    "\n",
    "$$ \\epsilon_r = \\frac{x_{nuevo} - x_{anterior}}{x_{nuevo}} \\times 100 \\% $$"
   ]
  },
  {
   "cell_type": "code",
   "execution_count": 10,
   "metadata": {
    "collapsed": true
   },
   "outputs": [],
   "source": [
    "def bisection_error(a,b,error):\n",
    "    iter = 0\n",
    "    c = (a+b)/2.0\n",
    "    error_rel = 100\n",
    "    while abs(error_rel) > error:\n",
    "        if f(c) == 0:\n",
    "            return c\n",
    "        elif f(a)*f(c) < 0:\n",
    "            b = c\n",
    "        else:\n",
    "            a = c\n",
    "        c_nuevo = (a+b)/2.0\n",
    "        error_rel = (c_nuevo - c) / c_nuevo * 100\n",
    "        c = c_nuevo\n",
    "        print('Iteracion {0:d} c = {1:1.5f} a = {2:1.5f} b = {3:1.5f} error = {4:.5f}%'.format(iter,c,a,b,error_rel)) \n",
    "        iter += 1\n",
    "    return c"
   ]
  },
  {
   "cell_type": "code",
   "execution_count": 11,
   "metadata": {},
   "outputs": [
    {
     "name": "stdout",
     "output_type": "stream",
     "text": [
      "Iteracion 0 c = 0.23500 a = 0.23000 b = 0.24000 error = 2.12766%\n",
      "Iteracion 1 c = 0.23250 a = 0.23000 b = 0.23500 error = -1.07527%\n",
      "Iteracion 2 c = 0.23125 a = 0.23000 b = 0.23250 error = -0.54054%\n",
      "Iteracion 3 c = 0.23062 a = 0.23000 b = 0.23125 error = -0.27100%\n",
      "Iteracion 4 c = 0.23031 a = 0.23000 b = 0.23062 error = -0.13569%\n",
      "Iteracion 5 c = 0.23016 a = 0.23000 b = 0.23031 error = -0.06789%\n"
     ]
    },
    {
     "data": {
      "text/plain": [
       "0.23015624999999998"
      ]
     },
     "execution_count": 11,
     "metadata": {},
     "output_type": "execute_result"
    }
   ],
   "source": [
    "bisection_error(0.22,0.24,0.1)"
   ]
  },
  {
   "cell_type": "markdown",
   "metadata": {},
   "source": [
    "*Método de la bisección requiere 5 interacciones para converger a un error relativo de menos de 0.1 %*"
   ]
  },
  {
   "cell_type": "markdown",
   "metadata": {},
   "source": [
    "\n",
    "\n",
    "## Método de la Falsa posición"
   ]
  },
  {
   "cell_type": "code",
   "execution_count": 12,
   "metadata": {
    "collapsed": true
   },
   "outputs": [],
   "source": [
    "def false_position(a,b,tol):\n",
    "    iter = 0\n",
    "    c = ( a * f(b) - b * f(a)) / (f(b) - f(a))\n",
    "    while abs(c-a) > tol:\n",
    "        if f(c) == 0:\n",
    "            return c\n",
    "        elif f(a)*f(c) < 0:\n",
    "            b = c\n",
    "        else:\n",
    "            a = c\n",
    "        c_nuevo = ( a * f(b) - b * f(a)) / (f(b) - f(a))\n",
    "        error_rel = (c_nuevo - c) / c_nuevo * 100\n",
    "        c = c_nuevo\n",
    "        print('Iteracion {0:d} c = {1:1.5f} a = {2:1.5f} b = {3:1.5f} error = {4:.5f}%'.format(iter,c,a,b,error_rel))\n",
    "        iter += 1\n",
    "    return c"
   ]
  },
  {
   "cell_type": "code",
   "execution_count": 13,
   "metadata": {},
   "outputs": [
    {
     "name": "stdout",
     "output_type": "stream",
     "text": [
      "Iteracion 0 c = 0.23025 a = 0.22973 b = 0.24000 error = 0.22292%\n",
      "Iteracion 1 c = 0.23027 a = 0.23025 b = 0.24000 error = 0.01172%\n",
      "Iteracion 2 c = 0.23027 a = 0.23027 b = 0.24000 error = 0.00062%\n"
     ]
    },
    {
     "data": {
      "text/plain": [
       "0.23027460254190069"
      ]
     },
     "execution_count": 13,
     "metadata": {},
     "output_type": "execute_result"
    }
   ],
   "source": [
    "false_position(0.22,0.24,1e-5)"
   ]
  },
  {
   "cell_type": "markdown",
   "metadata": {},
   "source": [
    "### Falsa posición con error relativo"
   ]
  },
  {
   "cell_type": "code",
   "execution_count": 14,
   "metadata": {
    "collapsed": true
   },
   "outputs": [],
   "source": [
    "def false_position_error(a,b,error):\n",
    "    iter = 0\n",
    "    c = ( a * f(b) - b * f(a)) / (f(b) - f(a))\n",
    "    error_rel = 100\n",
    "    while error_rel > error:\n",
    "        if f(c) == 0:\n",
    "            return c\n",
    "        elif f(a)*f(c) < 0:\n",
    "            b = c\n",
    "        else:\n",
    "            a = c\n",
    "        c_nuevo = ( a * f(b) - b * f(a)) / (f(b) - f(a))\n",
    "        error_rel = (c_nuevo - c) / c_nuevo * 100\n",
    "        c = c_nuevo\n",
    "        print('Iteracion {0:d} c = {1:1.5f} a = {2:1.5f} b = {3:1.5f} error = {4:.5f}%'.format(iter,c,a,b,error_rel))\n",
    "        iter += 1\n",
    "    return c"
   ]
  },
  {
   "cell_type": "code",
   "execution_count": 15,
   "metadata": {},
   "outputs": [
    {
     "name": "stdout",
     "output_type": "stream",
     "text": [
      "Iteracion 0 c = 0.23025 a = 0.22973 b = 0.24000 error = 0.22292%\n",
      "Iteracion 1 c = 0.23027 a = 0.23025 b = 0.24000 error = 0.01172%\n"
     ]
    },
    {
     "data": {
      "text/plain": [
       "0.23027318498664615"
      ]
     },
     "execution_count": 15,
     "metadata": {},
     "output_type": "execute_result"
    }
   ],
   "source": [
    "false_position_error(0.22,0.24,0.1)"
   ]
  },
  {
   "cell_type": "markdown",
   "metadata": {},
   "source": [
    "*Método de la la falsa posición requiere **solo** 2 interacciones para converger a un error relativo de menos de 0.1 %*"
   ]
  },
  {
   "cell_type": "markdown",
   "metadata": {},
   "source": [
    "¿Porqué converge más rápido el método de la falsa posición que el de la bisección?"
   ]
  },
  {
   "cell_type": "markdown",
   "metadata": {},
   "source": [
    "# Métodos abiertos"
   ]
  },
  {
   "cell_type": "markdown",
   "metadata": {},
   "source": [
    "## Iteración de punto fijo"
   ]
  },
  {
   "cell_type": "code",
   "execution_count": 16,
   "metadata": {
    "collapsed": true
   },
   "outputs": [],
   "source": [
    "def f_pf(x):\n",
    "    return (0.74*(1.00-x)*(1-2*x)**2/256)**(1/5)"
   ]
  },
  {
   "cell_type": "code",
   "execution_count": 20,
   "metadata": {},
   "outputs": [
    {
     "name": "stdout",
     "output_type": "stream",
     "text": [
      "iter = 0, x = 0.2222279\n",
      "iter = 1, x = 0.2334835\n",
      "iter = 2, x = 0.2289835\n",
      "iter = 3, x = 0.2307923\n",
      "iter = 4, x = 0.2300669\n",
      "iter = 5, x = 0.2303581\n",
      "iter = 6, x = 0.2302412\n",
      "iter = 7, x = 0.2302881\n",
      "iter = 8, x = 0.2302693\n",
      "iter = 9, x = 0.2302768\n",
      "iter = 10, x = 0.2302738\n",
      "iter = 11, x = 0.2302750\n",
      "iter = 12, x = 0.2302745\n",
      "iter = 13, x = 0.2302747\n",
      "iter = 14, x = 0.2302747\n"
     ]
    }
   ],
   "source": [
    "iteraciones = 15\n",
    "x = 0.25\n",
    "for i in range(iteraciones):\n",
    "    x_new = f_pf(x)\n",
    "    x = x_new\n",
    "    print('iter = {0:d}, x = {1:1.7f}'.format(i,x_new))"
   ]
  },
  {
   "cell_type": "code",
   "execution_count": 21,
   "metadata": {},
   "outputs": [
    {
     "name": "stdout",
     "output_type": "stream",
     "text": [
      "0.2222279117637761\n"
     ]
    }
   ],
   "source": [
    "print(f_pf(0.25))"
   ]
  },
  {
   "cell_type": "markdown",
   "metadata": {},
   "source": [
    "## Ejemplo de Newton Raphson fijando número de iteraciones"
   ]
  },
  {
   "cell_type": "code",
   "execution_count": 22,
   "metadata": {
    "collapsed": true
   },
   "outputs": [],
   "source": [
    "def df(x):\n",
    "    return 1280*x**4 + 8.88 * x**2 - 11.84 * x + 3.7"
   ]
  },
  {
   "cell_type": "code",
   "execution_count": 23,
   "metadata": {
    "collapsed": true
   },
   "outputs": [],
   "source": [
    "def newton_raphson(inicio, iteraciones):\n",
    "    x = inicio\n",
    "    for _ in range(iteraciones):\n",
    "        x = x - (f(x) / df(x))\n",
    "    return x    "
   ]
  },
  {
   "cell_type": "code",
   "execution_count": 28,
   "metadata": {},
   "outputs": [
    {
     "data": {
      "text/plain": [
       "0.8001155581929198"
      ]
     },
     "execution_count": 28,
     "metadata": {},
     "output_type": "execute_result"
    }
   ],
   "source": [
    "newton_raphson(1,1)"
   ]
  },
  {
   "cell_type": "code",
   "execution_count": 30,
   "metadata": {},
   "outputs": [
    {
     "name": "stdout",
     "output_type": "stream",
     "text": [
      "n = 0: 1.0000000000\n",
      "n = 1: 0.8001155582\n",
      "n = 2: 0.6401670392\n",
      "n = 3: 0.5120877264\n",
      "n = 4: 0.4096324418\n",
      "n = 5: 0.3288638875\n",
      "n = 6: 0.2699917474\n",
      "n = 7: 0.2381817668\n",
      "n = 8: 0.2306113479\n",
      "n = 9: 0.2302752964\n",
      "n = 10: 0.2302746812\n",
      "n = 11: 0.2302746812\n",
      "n = 12: 0.2302746812\n",
      "n = 13: 0.2302746812\n",
      "n = 14: 0.2302746812\n",
      "n = 15: 0.2302746812\n",
      "n = 16: 0.2302746812\n",
      "n = 17: 0.2302746812\n",
      "n = 18: 0.2302746812\n",
      "n = 19: 0.2302746812\n",
      "n = 20: 0.2302746812\n",
      "n = 21: 0.2302746812\n",
      "n = 22: 0.2302746812\n",
      "n = 23: 0.2302746812\n",
      "n = 24: 0.2302746812\n",
      "n = 25: 0.2302746812\n",
      "n = 26: 0.2302746812\n",
      "n = 27: 0.2302746812\n",
      "n = 28: 0.2302746812\n",
      "n = 29: 0.2302746812\n",
      "n = 30: 0.2302746812\n",
      "n = 31: 0.2302746812\n",
      "n = 32: 0.2302746812\n",
      "n = 33: 0.2302746812\n",
      "n = 34: 0.2302746812\n",
      "n = 35: 0.2302746812\n",
      "n = 36: 0.2302746812\n",
      "n = 37: 0.2302746812\n",
      "n = 38: 0.2302746812\n",
      "n = 39: 0.2302746812\n"
     ]
    }
   ],
   "source": [
    "for n in range(40):\n",
    "    print('n = {0:d}: {1:2.10f}'.format(n,newton_raphson(1,n)))"
   ]
  },
  {
   "cell_type": "markdown",
   "metadata": {},
   "source": [
    "Newton Raphson con criterio de convergencia"
   ]
  },
  {
   "cell_type": "code",
   "execution_count": 31,
   "metadata": {
    "collapsed": true
   },
   "outputs": [],
   "source": [
    "def newton_raphson_conv(inicio, convergencia):\n",
    "    x = inicio\n",
    "    error = 1e12\n",
    "    while error >= convergencia:\n",
    "        x_new = x - (f(x) / df(x))\n",
    "        error = abs(1 - x_new / x)  \n",
    "        x = x_new\n",
    "    return x    "
   ]
  },
  {
   "cell_type": "code",
   "execution_count": 32,
   "metadata": {},
   "outputs": [
    {
     "data": {
      "text/plain": [
       "0.23027468115886976"
      ]
     },
     "execution_count": 32,
     "metadata": {},
     "output_type": "execute_result"
    }
   ],
   "source": [
    "newton_raphson_conv(10,1e-10)"
   ]
  },
  {
   "cell_type": "markdown",
   "metadata": {},
   "source": [
    "### Estas herramientas ya estan implementadas en python en el módulo scipy\n",
    "optimize.newton\n",
    "etc."
   ]
  },
  {
   "cell_type": "code",
   "execution_count": 33,
   "metadata": {
    "collapsed": true
   },
   "outputs": [],
   "source": [
    "from scipy.optimize import *"
   ]
  },
  {
   "cell_type": "code",
   "execution_count": 34,
   "metadata": {
    "collapsed": true
   },
   "outputs": [],
   "source": [
    "newton?"
   ]
  },
  {
   "cell_type": "code",
   "execution_count": 35,
   "metadata": {},
   "outputs": [
    {
     "data": {
      "text/plain": [
       "0.23027468115886976"
      ]
     },
     "execution_count": 35,
     "metadata": {},
     "output_type": "execute_result"
    }
   ],
   "source": [
    "newton(f,10)"
   ]
  },
  {
   "cell_type": "code",
   "execution_count": 36,
   "metadata": {},
   "outputs": [
    {
     "ename": "RuntimeError",
     "evalue": "Failed to converge after 15 iterations, value is 0.23228172022864949",
     "output_type": "error",
     "traceback": [
      "\u001b[0;31m---------------------------------------------------------------------------\u001b[0m",
      "\u001b[0;31mRuntimeError\u001b[0m                              Traceback (most recent call last)",
      "\u001b[0;32m<ipython-input-36-18496ecec851>\u001b[0m in \u001b[0;36m<module>\u001b[0;34m()\u001b[0m\n\u001b[0;32m----> 1\u001b[0;31m \u001b[0mnewton\u001b[0m\u001b[0;34m(\u001b[0m\u001b[0mf\u001b[0m\u001b[0;34m,\u001b[0m\u001b[0;36m2\u001b[0m\u001b[0;34m,\u001b[0m\u001b[0mmaxiter\u001b[0m\u001b[0;34m=\u001b[0m\u001b[0;36m15\u001b[0m\u001b[0;34m)\u001b[0m\u001b[0;34m\u001b[0m\u001b[0;34m\u001b[0m\u001b[0m\n\u001b[0m",
      "\u001b[0;32m~/anaconda/envs/py36/lib/python3.6/site-packages/scipy/optimize/zeros.py\u001b[0m in \u001b[0;36mnewton\u001b[0;34m(func, x0, fprime, args, tol, maxiter, fprime2)\u001b[0m\n\u001b[1;32m    182\u001b[0m             \u001b[0mq1\u001b[0m \u001b[0;34m=\u001b[0m \u001b[0mfunc\u001b[0m\u001b[0;34m(\u001b[0m\u001b[0;34m*\u001b[0m\u001b[0;34m(\u001b[0m\u001b[0;34m(\u001b[0m\u001b[0mp1\u001b[0m\u001b[0;34m,\u001b[0m\u001b[0;34m)\u001b[0m \u001b[0;34m+\u001b[0m \u001b[0margs\u001b[0m\u001b[0;34m)\u001b[0m\u001b[0;34m)\u001b[0m\u001b[0;34m\u001b[0m\u001b[0;34m\u001b[0m\u001b[0m\n\u001b[1;32m    183\u001b[0m     \u001b[0mmsg\u001b[0m \u001b[0;34m=\u001b[0m \u001b[0;34m\"Failed to converge after %d iterations, value is %s\"\u001b[0m \u001b[0;34m%\u001b[0m \u001b[0;34m(\u001b[0m\u001b[0mmaxiter\u001b[0m\u001b[0;34m,\u001b[0m \u001b[0mp\u001b[0m\u001b[0;34m)\u001b[0m\u001b[0;34m\u001b[0m\u001b[0;34m\u001b[0m\u001b[0m\n\u001b[0;32m--> 184\u001b[0;31m     \u001b[0;32mraise\u001b[0m \u001b[0mRuntimeError\u001b[0m\u001b[0;34m(\u001b[0m\u001b[0mmsg\u001b[0m\u001b[0;34m)\u001b[0m\u001b[0;34m\u001b[0m\u001b[0;34m\u001b[0m\u001b[0m\n\u001b[0m\u001b[1;32m    185\u001b[0m \u001b[0;34m\u001b[0m\u001b[0m\n\u001b[1;32m    186\u001b[0m \u001b[0;34m\u001b[0m\u001b[0m\n",
      "\u001b[0;31mRuntimeError\u001b[0m: Failed to converge after 15 iterations, value is 0.23228172022864949"
     ]
    }
   ],
   "source": [
    "newton(f,2,maxiter=15)"
   ]
  },
  {
   "cell_type": "markdown",
   "metadata": {},
   "source": [
    "¿Porque no se uso la derivada para el cálculo?"
   ]
  },
  {
   "cell_type": "code",
   "execution_count": 37,
   "metadata": {},
   "outputs": [
    {
     "data": {
      "text/plain": [
       "0.23027468115886976"
      ]
     },
     "execution_count": 37,
     "metadata": {},
     "output_type": "execute_result"
    }
   ],
   "source": [
    "newton(f,2,maxiter=15,fprime=df)"
   ]
  },
  {
   "cell_type": "code",
   "execution_count": null,
   "metadata": {
    "collapsed": true
   },
   "outputs": [],
   "source": []
  }
 ],
 "metadata": {
  "kernelspec": {
   "display_name": "Python [default]",
   "language": "python",
   "name": "python3"
  },
  "language_info": {
   "codemirror_mode": {
    "name": "ipython",
    "version": 3
   },
   "file_extension": ".py",
   "mimetype": "text/x-python",
   "name": "python",
   "nbconvert_exporter": "python",
   "pygments_lexer": "ipython3",
   "version": "3.6.7"
  }
 },
 "nbformat": 4,
 "nbformat_minor": 2
}
