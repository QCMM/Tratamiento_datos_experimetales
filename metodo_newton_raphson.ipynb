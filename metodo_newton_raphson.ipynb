{
 "cells": [
  {
   "cell_type": "markdown",
   "metadata": {},
   "source": [
    "# Python notebook \"Raices ecuaciones algebraicas\"\n",
    "\n",
    "Tratamiento de Datos Experimentales (530.307) \n",
    "\n",
    "Author: Esteban Vöhringer-Martinez"
   ]
  },
  {
   "cell_type": "markdown",
   "metadata": {},
   "source": [
    "# Determinar la concentración en equilibrio \n",
    "\n",
    "En algunos casos el polinomio a resolver es de orden mayor o igual a 3 y no se puede resolver analiticamente.\n",
    "\n",
    "\n",
    "Ejemplo: $CH_4(g) + 2 H_2O(g) <=> CO_2(g) + H_2(g)$\n",
    "\n",
    "\n",
    "Tarea: Determine la concentación en equilibrio partiendo de 1 mol de metano y 1 mol de agua"
   ]
  },
  {
   "cell_type": "code",
   "execution_count": 6,
   "metadata": {},
   "outputs": [],
   "source": [
    "import numpy as np\n",
    "import matplotlib.pyplot as plt\n",
    "%matplotlib inline"
   ]
  },
  {
   "cell_type": "code",
   "execution_count": 3,
   "metadata": {},
   "outputs": [],
   "source": [
    "def f(x):\n",
    "     return 256*x**5-0.74*(1-x)*(1-2*x)**2"
   ]
  },
  {
   "cell_type": "code",
   "execution_count": 62,
   "metadata": {},
   "outputs": [],
   "source": [
    "x = np.linspace(1,-1,num=100)"
   ]
  },
  {
   "cell_type": "code",
   "execution_count": 63,
   "metadata": {
    "collapsed": true
   },
   "outputs": [],
   "source": [
    "y = f(x)"
   ]
  },
  {
   "cell_type": "code",
   "execution_count": 64,
   "metadata": {},
   "outputs": [
    {
     "data": {
      "image/png": "[encoded data removed]",
      "text/plain": [
       "<matplotlib.figure.Figure at 0x1157fed68>"
      ]
     },
     "metadata": {},
     "output_type": "display_data"
    }
   ],
   "source": [
    "plt.plot(x,y)\n",
    "plt.grid(True)"
   ]
  },
  {
   "cell_type": "code",
   "execution_count": 156,
   "metadata": {},
   "outputs": [
    {
     "data": {
      "image/png": "[encoded data removed]",
      "text/plain": [
       "<matplotlib.figure.Figure at 0x1158b55c0>"
      ]
     },
     "metadata": {},
     "output_type": "display_data"
    }
   ],
   "source": [
    "x = np.linspace(0.2,0.25,num=100)\n",
    "y = f(x)\n",
    "plt.plot(x,y)\n",
    "plt.grid(True)"
   ]
  },
  {
   "cell_type": "markdown",
   "metadata": {},
   "source": [
    "Discutir métodos abiertos y cerrados, sus ventajas y desventajas ..."
   ]
  },
  {
   "cell_type": "markdown",
   "metadata": {},
   "source": [
    "## Ejemplo de Newton Raphson fijando número de iteraciones"
   ]
  },
  {
   "cell_type": "code",
   "execution_count": 70,
   "metadata": {
    "collapsed": true
   },
   "outputs": [],
   "source": [
    "def df(x):\n",
    "    return 1280*x**4 + 8.88 * x**2 - 11.84 * x + 3.7"
   ]
  },
  {
   "cell_type": "code",
   "execution_count": 90,
   "metadata": {},
   "outputs": [],
   "source": [
    "def newton_raphson(inicio, iteraciones):\n",
    "    x = inicio\n",
    "    for _ in range(iteraciones):\n",
    "        x = x - (f(x) / df(x))\n",
    "    return x    "
   ]
  },
  {
   "cell_type": "code",
   "execution_count": 92,
   "metadata": {},
   "outputs": [
    {
     "data": {
      "text/plain": [
       "7.999932999360281"
      ]
     },
     "execution_count": 92,
     "metadata": {},
     "output_type": "execute_result"
    }
   ],
   "source": [
    "newton_raphson(10,1)"
   ]
  },
  {
   "cell_type": "code",
   "execution_count": 118,
   "metadata": {},
   "outputs": [
    {
     "name": "stdout",
     "output_type": "stream",
     "text": [
      "n = 0: 10.0000000000\n",
      "n = 1: 7.9999329994\n",
      "n = 2: 6.3998697650\n",
      "n = 3: 5.1198105638\n",
      "n = 4: 4.0957572742\n",
      "n = 5: 3.2765138221\n",
      "n = 6: 2.6211265409\n",
      "n = 7: 2.0968361121\n",
      "n = 8: 1.6774379946\n",
      "n = 9: 1.3419682350\n",
      "n = 10: 1.0736475345\n",
      "n = 11: 0.8590303202\n",
      "n = 12: 0.6873216064\n",
      "n = 13: 0.5498540937\n",
      "n = 14: 0.4397935286\n",
      "n = 15: 0.3523445777\n",
      "n = 16: 0.2861116297\n",
      "n = 17: 0.2451262225\n",
      "n = 18: 0.2314493842\n",
      "n = 19: 0.2302821667\n",
      "n = 20: 0.2302746815\n",
      "n = 21: 0.2302746812\n",
      "n = 22: 0.2302746812\n",
      "n = 23: 0.2302746812\n",
      "n = 24: 0.2302746812\n",
      "n = 25: 0.2302746812\n",
      "n = 26: 0.2302746812\n",
      "n = 27: 0.2302746812\n",
      "n = 28: 0.2302746812\n",
      "n = 29: 0.2302746812\n",
      "n = 30: 0.2302746812\n",
      "n = 31: 0.2302746812\n",
      "n = 32: 0.2302746812\n",
      "n = 33: 0.2302746812\n",
      "n = 34: 0.2302746812\n",
      "n = 35: 0.2302746812\n",
      "n = 36: 0.2302746812\n",
      "n = 37: 0.2302746812\n",
      "n = 38: 0.2302746812\n",
      "n = 39: 0.2302746812\n"
     ]
    }
   ],
   "source": [
    "for n in range(40):\n",
    "    print('n = {0:d}: {1:2.10f}'.format(n,newton_raphson(10,n)))"
   ]
  },
  {
   "cell_type": "markdown",
   "metadata": {},
   "source": [
    "Newton Raphson con criterio de convergencia"
   ]
  },
  {
   "cell_type": "code",
   "execution_count": 114,
   "metadata": {},
   "outputs": [],
   "source": [
    "def newton_raphson_conv(inicio, convergencia):\n",
    "    x = inicio\n",
    "    error = 1e12\n",
    "    while error >= convergencia:\n",
    "        x_new = x - (f(x) / df(x))\n",
    "        error = abs(1 - x_new / x)  \n",
    "        x = x_new\n",
    "    return x    "
   ]
  },
  {
   "cell_type": "code",
   "execution_count": 119,
   "metadata": {},
   "outputs": [
    {
     "data": {
      "text/plain": [
       "0.23027468115886976"
      ]
     },
     "execution_count": 119,
     "metadata": {},
     "output_type": "execute_result"
    }
   ],
   "source": [
    "newton_raphson_conv(10,1e-10)"
   ]
  },
  {
   "cell_type": "markdown",
   "metadata": {},
   "source": [
    "### Estas herramientas ya estan implementadas en python en el módulo scipy\n",
    "optimize.newton\n",
    "etc."
   ]
  },
  {
   "cell_type": "code",
   "execution_count": 121,
   "metadata": {
    "collapsed": true
   },
   "outputs": [],
   "source": [
    "from scipy.optimize import *"
   ]
  },
  {
   "cell_type": "code",
   "execution_count": 159,
   "metadata": {
    "collapsed": true
   },
   "outputs": [],
   "source": [
    "newton?"
   ]
  },
  {
   "cell_type": "code",
   "execution_count": 146,
   "metadata": {},
   "outputs": [
    {
     "data": {
      "text/plain": [
       "0.23027468115886976"
      ]
     },
     "execution_count": 146,
     "metadata": {},
     "output_type": "execute_result"
    }
   ],
   "source": [
    "newton(f,10)"
   ]
  },
  {
   "cell_type": "code",
   "execution_count": 147,
   "metadata": {},
   "outputs": [
    {
     "ename": "RuntimeError",
     "evalue": "Failed to converge after 15 iterations, value is 0.23228172022864949",
     "output_type": "error",
     "traceback": [
      "\u001b[0;31m---------------------------------------------------------------------------\u001b[0m",
      "\u001b[0;31mRuntimeError\u001b[0m                              Traceback (most recent call last)",
      "\u001b[0;32m<ipython-input-147-18496ecec851>\u001b[0m in \u001b[0;36m<module>\u001b[0;34m()\u001b[0m\n\u001b[0;32m----> 1\u001b[0;31m \u001b[0mnewton\u001b[0m\u001b[0;34m(\u001b[0m\u001b[0mf\u001b[0m\u001b[0;34m,\u001b[0m\u001b[0;36m2\u001b[0m\u001b[0;34m,\u001b[0m\u001b[0mmaxiter\u001b[0m\u001b[0;34m=\u001b[0m\u001b[0;36m15\u001b[0m\u001b[0;34m)\u001b[0m\u001b[0;34m\u001b[0m\u001b[0m\n\u001b[0m",
      "\u001b[0;32m/Users/estebanvohringer-martinez/anaconda2/envs/py36/lib/python3.6/site-packages/scipy/optimize/zeros.py\u001b[0m in \u001b[0;36mnewton\u001b[0;34m(func, x0, fprime, args, tol, maxiter, fprime2)\u001b[0m\n\u001b[1;32m    182\u001b[0m             \u001b[0mq1\u001b[0m \u001b[0;34m=\u001b[0m \u001b[0mfunc\u001b[0m\u001b[0;34m(\u001b[0m\u001b[0;34m*\u001b[0m\u001b[0;34m(\u001b[0m\u001b[0;34m(\u001b[0m\u001b[0mp1\u001b[0m\u001b[0;34m,\u001b[0m\u001b[0;34m)\u001b[0m \u001b[0;34m+\u001b[0m \u001b[0margs\u001b[0m\u001b[0;34m)\u001b[0m\u001b[0;34m)\u001b[0m\u001b[0;34m\u001b[0m\u001b[0m\n\u001b[1;32m    183\u001b[0m     \u001b[0mmsg\u001b[0m \u001b[0;34m=\u001b[0m \u001b[0;34m\"Failed to converge after %d iterations, value is %s\"\u001b[0m \u001b[0;34m%\u001b[0m \u001b[0;34m(\u001b[0m\u001b[0mmaxiter\u001b[0m\u001b[0;34m,\u001b[0m \u001b[0mp\u001b[0m\u001b[0;34m)\u001b[0m\u001b[0;34m\u001b[0m\u001b[0m\n\u001b[0;32m--> 184\u001b[0;31m     \u001b[0;32mraise\u001b[0m \u001b[0mRuntimeError\u001b[0m\u001b[0;34m(\u001b[0m\u001b[0mmsg\u001b[0m\u001b[0;34m)\u001b[0m\u001b[0;34m\u001b[0m\u001b[0m\n\u001b[0m\u001b[1;32m    185\u001b[0m \u001b[0;34m\u001b[0m\u001b[0m\n\u001b[1;32m    186\u001b[0m \u001b[0;34m\u001b[0m\u001b[0m\n",
      "\u001b[0;31mRuntimeError\u001b[0m: Failed to converge after 15 iterations, value is 0.23228172022864949"
     ]
    }
   ],
   "source": [
    "newton(f,2,maxiter=15)"
   ]
  },
  {
   "cell_type": "markdown",
   "metadata": {},
   "source": [
    "¿Porque no se uso la derivada para el cálculo?"
   ]
  },
  {
   "cell_type": "code",
   "execution_count": 148,
   "metadata": {},
   "outputs": [
    {
     "data": {
      "text/plain": [
       "0.23027468115886976"
      ]
     },
     "execution_count": 148,
     "metadata": {},
     "output_type": "execute_result"
    }
   ],
   "source": [
    "newton(f,2,maxiter=15,fprime=df)"
   ]
  }
 ],
 "metadata": {
  "kernelspec": {
   "display_name": "Python 3",
   "language": "python",
   "name": "python3"
  },
  "language_info": {
   "codemirror_mode": {
    "name": "ipython",
    "version": 3
   },
   "file_extension": ".py",
   "mimetype": "text/x-python",
   "name": "python",
   "nbconvert_exporter": "python",
   "pygments_lexer": "ipython3",
   "version": "3.6.1"
  }
 },
 "nbformat": 4,
 "nbformat_minor": 2
}
