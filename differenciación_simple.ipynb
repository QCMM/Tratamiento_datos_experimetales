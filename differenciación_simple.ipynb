{
 "cells": [
  {
   "cell_type": "markdown",
   "metadata": {
    "slideshow": {
     "slide_type": "skip"
    }
   },
   "source": [
    "<table>\n",
    " <tr align=left><td><img align=left src=\"./images/CC-BY.png\">\n",
    " <td>Text provided under a Creative Commons Attribution license, CC-BY. All code is made available under the FSF-approved MIT license. (c) Kyle T. Mandli</td>\n",
    "</table>"
   ]
  },
  {
   "cell_type": "code",
   "execution_count": 10,
   "metadata": {
    "slideshow": {
     "slide_type": "skip"
    }
   },
   "outputs": [],
   "source": [
    "from __future__ import print_function\n",
    "%matplotlib inline\n",
    "import numpy\n",
    "import matplotlib.pyplot as plt"
   ]
  },
  {
   "cell_type": "markdown",
   "metadata": {
    "slideshow": {
     "slide_type": "slide"
    }
   },
   "source": [
    "# Diferenciación numérica\n",
    "\n",
    "**Meta:**  Dado una serie de $N+1$ puntos $(x_i, y_i)$ calcular la derivada de un orden determinado.\n",
    "\n",
    "**Camino:** Aplicar derivada simple hacia adelante y atras y derivar de derivada centrada de la expresión de Taylor."
   ]
  },
  {
   "cell_type": "markdown",
   "metadata": {
    "slideshow": {
     "slide_type": "subslide"
    }
   },
   "source": [
    "### Ejemplo 1:  Primera diferencia hacia adelante y atras\n",
    "\n",
    "Usando dos puntos se puede obtener una expresión de la derivada basada en un polinomio de primer orden:\n",
    "\n",
    "$$f'(x) \\simeq \\frac{y_1 - y_0}{x_1 - x_0} = \\frac{y_1 - y_0}{\\Delta x} = \\frac{f(x_1) - f(x_0)}{\\Delta x}$$"
   ]
  },
  {
   "cell_type": "markdown",
   "metadata": {
    "slideshow": {
     "slide_type": "subslide"
    }
   },
   "source": [
    "El error esta dado como:\n",
    "\n",
    "$$R_1'(x) = -\\Delta x \\frac{f''(c)}{2}$$"
   ]
  },
  {
   "cell_type": "markdown",
   "metadata": {
    "slideshow": {
     "slide_type": "subslide"
    }
   },
   "source": [
    "Esto se puede aplicar hacia adelante y atras.  Para la diferencia hacias adelante se obtiene para $f'(x_n)$\n",
    "\n",
    "$$f'(x_n) \\approx D_1^+ = \\frac{f(x_{n+1}) - f(x_n)}{\\Delta x}$$\n",
    "\n",
    "y para atras\n",
    "\n",
    "$$f'(x_n) \\approx D_1^- = \\frac{f(x_n) - f(x_{n-1})}{\\Delta x}$$"
   ]
  },
  {
   "cell_type": "markdown",
   "metadata": {
    "slideshow": {
     "slide_type": "skip"
    }
   },
   "source": [
    "Estas fórmulas estan directamente relacionda con la definición de la derivada en $x_n$ en el límite $\\Delta x \\rightarrow 0$."
   ]
  },
  {
   "cell_type": "code",
   "execution_count": 17,
   "metadata": {
    "slideshow": {
     "slide_type": "skip"
    }
   },
   "outputs": [
    {
     "data": {
      "image/png": "[encoded data removed]",
      "text/plain": [
       "<Figure size 432x288 with 1 Axes>"
      ]
     },
     "metadata": {
      "needs_background": "light"
     },
     "output_type": "display_data"
    }
   ],
   "source": [
    "# Ilustración de la derivada numérica en comparación a a la analítica\n",
    "f = lambda x: numpy.sin(x)\n",
    "f_prime = lambda x: numpy.cos(x)\n",
    "\n",
    "\n",
    "x = numpy.linspace(-2 * numpy.pi, 2 * numpy.pi, 1000)\n",
    "# El intervalo entre 2*pi y -2*pi es divido en 20 segmentos en donde se evaluara la \n",
    "# derivada numérica\n",
    "N = 6\n",
    "x_hat = numpy.linspace(-2 * numpy.pi, 2 * numpy.pi, N)\n",
    "# tamaño de paso\n",
    "delta_x = x_hat[1] - x_hat[0]\n",
    "\n",
    "# Calcula diferencia hacia adelante en un bucle\n",
    "f_prime_hat = numpy.empty(x_hat.shape)\n",
    "for i in range(N - 1):\n",
    "    f_prime_hat[i] = (f(x_hat[i+1]) - f(x_hat[i])) / delta_x\n",
    "f_prime_hat[-1] = (f(x_hat[-1]) - f(x_hat[-2])) / delta_x\n",
    "\n",
    "# En el límite del intervalo se usa la diferencia hacia atras\n",
    "f_prime_hat[-1] = (f(x_hat[-1]) - f(x_hat[-2])) / delta_x  \n",
    "\n",
    "fig = plt.figure()\n",
    "axes = fig.add_subplot(1, 1, 1)\n",
    "\n",
    "axes.plot(x, f_prime(x), 'k')\n",
    "axes.plot(x_hat + 0.5 * delta_x, f_prime_hat, 'ro')\n",
    "axes.set_xlim((x[0], x[-1]))\n",
    "axes.set_ylim((-1.1, 1.1))\n",
    "\n",
    "plt.show()"
   ]
  },
  {
   "cell_type": "markdown",
   "metadata": {
    "slideshow": {
     "slide_type": "subslide"
    }
   },
   "source": [
    "### Derivación alternativa a través de la serie de Taylor\n",
    "\n",
    "Expandenmos la función en el punto $x_n$ por una serie de Taylor:\n",
    "\n",
    "$$f(x) = f(x_n) + (x - x_n) f'(x_n) + \\frac{(x - x_n)^2}{2!} f''(x_n) + \\frac{(x - x_n)^3}{3!} f'''(x_n) + \\mathcal{O}((x - x_n)^4)$$"
   ]
  },
  {
   "cell_type": "markdown",
   "metadata": {
    "slideshow": {
     "slide_type": "subslide"
    }
   },
   "source": [
    "Usamos la serie de para obtener los valores $(x_{n+1}, f(x_{n+1})$ y $(x_{n-1}, f(x_{n-1})$:\n",
    "\n",
    "$$\\begin{aligned}\n",
    "    f(x_{n+1}) &= f(x_n) + (x_{n+1} - x_n) f'(x_n) + \\frac{(x_{n+1} - x_n)^2}{2!} f''(x_n) + \\frac{(x_{n+1} - x_n)^3}{3!} f'''(x_n) + \\mathcal{O}((x_{n+1} - x_n)^4) \\\\\n",
    "    &= f(x_n) + \\Delta x f'(x_n) + \\frac{\\Delta x^2}{2!} f''(x_n) + \\frac{\\Delta x^3}{3!} f'''(x_n) + \\mathcal{O}(\\Delta x^4)\n",
    "\\end{aligned}$$\n",
    "\n",
    "and\n",
    "\n",
    "$$f(x_{n-1}) = f(x_n) + (x_{n-1} - x_n) f'(x_n) + \\frac{(x_{n-1} - x_n)^2}{2!} f''(x_n) + \\frac{(x_{n-1} - x_n)^3}{3!} f'''(x_n) + \\mathcal{O}((x_{n-1} - x_n)^4) $$\n",
    "\n",
    "$$ = f(x_n) - \\Delta x f'(x_n) + \\frac{\\Delta x^2}{2!} f''(x_n) - \\frac{\\Delta x^3}{3!} f'''(x_n) + \\mathcal{O}(\\Delta x^4) $$"
   ]
  },
  {
   "cell_type": "markdown",
   "metadata": {
    "slideshow": {
     "slide_type": "subslide"
    }
   },
   "source": [
    "La primera derivada en $x_n$ la vamos a aproximar como una combinación lineal de una serie  de Taylor en los puntos $x_{n+1}$ y $x_{n-1}$ y el valor de la función en $x_n$:\n",
    "\n",
    "$$\n",
    "    f'(x_n) + R(x_n) = A f(x_{n+1}) + B f(x_n) + C f(x_{n-1})\n",
    "$$\n",
    "\n",
    "en donde $R(x_n)$ es el termino remanente.  Reemplazando las expresiones para $f(x_{n+1})$ y $f(x_{n-1})$ en la celda de arriba se obtiene\n",
    "\n",
    "$$\\begin{aligned}\n",
    "    f'(x_n) + R(x_n) &= A \\left ( f(x_n) + \\Delta x f'(x_n) + \\frac{\\Delta x^2}{2!} f''(x_n) + \\frac{\\Delta x^3}{3!} f'''(x_n) + \\mathcal{O}(\\Delta x^4)\\right ) \\\\\n",
    "    & + B f(x_n) \\\\ \n",
    "    & + C \\left ( f(x_n) - \\Delta x f'(x_n) + \\frac{\\Delta x^2}{2!} f''(x_n) - \\frac{\\Delta x^3}{3!} f'''(x_n) + \\mathcal{O}(\\Delta x^4) \\right )\n",
    "\\end{aligned}$$"
   ]
  },
  {
   "cell_type": "markdown",
   "metadata": {
    "slideshow": {
     "slide_type": "subslide"
    }
   },
   "source": [
    "Queremos el orden del término remanente sea $R(x_n) = \\mathcal{O}(\\Delta x^2)$ por lo cual todos los terminos menores a este deben cancelarse salvo los que multiplican $f'(x_n)$ que deberían sumar 1.  Combinando los términos similares de  $f(x_n)$ obtenemos expresiones para $A$, $B$, y $C$ basados en que deseamos una derivada de $f'(x_n)$.  Para $n=0$ los terminos $A + B + C$ se hace 0 porque $f(x_n)$ debe cancerlarse.\n",
    "\n",
    "$$\\begin{aligned}\n",
    "    f(x_n):&  &A + B + C &= 0 \\\\\n",
    "    f'(x_n): & &A \\Delta x - C \\Delta x &= 1 \\\\\n",
    "    f''(x_n): & &A \\frac{\\Delta x^2}{2} + C \\frac{\\Delta x^2}{2} &= 0\n",
    "\\end{aligned} $$"
   ]
  },
  {
   "cell_type": "markdown",
   "metadata": {
    "slideshow": {
     "slide_type": "subslide"
    }
   },
   "source": [
    "De la última ecuación se deduce $\\Rightarrow A = -C$, que se utiliza en la segunda ecuación para obtener $A = \\frac{1}{2 \\Delta x}$ y $C = -\\frac{1}{2 \\Delta x}$ y la primera ecuación da $B = 0$.  El resultado para la derivada es y el error correspondiente es:\n",
    "\n",
    "$$\\begin{aligned}\n",
    "    f'(x_n) + R(x_n) &= \\quad \\frac{1}{2 \\Delta x} \\left ( f(x_n) + \\Delta x f'(x_n) + \\frac{\\Delta x^2}{2!} f''(x_n) + \\frac{\\Delta x^3}{3!} f'''(x_n) + \\mathcal{O}(\\Delta x^4)\\right ) \\\\\n",
    "    & \\quad + 0 \\cdot f(x_n) \\\\ \n",
    "    & \\quad - \\frac{1}{2 \\Delta x} \\left ( f(x_n) - \\Delta x f'(x_n) + \\frac{\\Delta x^2}{2!} f''(x_n) - \\frac{\\Delta x^3}{3!} f'''(x_n) + \\mathcal{O}(\\Delta x^4) \\right ) \\\\\n",
    "    &=  f'(x_n) + \\frac{1}{2 \\Delta x} \\left ( \\frac{2 \\Delta x^3}{3!} f'''(x_n) + \\mathcal{O}(\\Delta x^4)\\right )\n",
    "\\end{aligned}$$\n",
    "y encontramos que \n",
    "$$\n",
    "    R(x_n) = \\frac{\\Delta x^2}{3!} f'''(x_n) + \\mathcal{O}(\\Delta x^3) = \\mathcal{O}(\\Delta x^2)\n",
    "$$"
   ]
  },
  {
   "cell_type": "markdown",
   "metadata": {
    "slideshow": {
     "slide_type": "subslide"
    }
   },
   "source": [
    "#### La derivada la podemos aproximar como sin considerar el residual...\n",
    "\n",
    "$$f'(x_n) \\simeq \\frac{1}{2\\Delta x} f(x_{n+1}) + 0 f(x_n) + -\\frac{1}{2\\Delta x} f(x_{n-1})$$\n",
    "\n",
    "$$f'(x_n) \\simeq  \\frac{f(x_{n+1}) - f(x_{n-1})}{2 \\Delta x} $$\n",
    "\n",
    "que también podemos interpretar como el promedio de la derivada hacia adelante y atrás\n",
    "\n",
    "$$f'(x_n) \\simeq = \\frac{D_1^+(f(x_n)) + D_1^-(f(x_n))}{2}$$\n",
    "\n",
    "Es importante recordar que solo es válido cuando el espaciado $\\Delta x$ es **constante entre los tres puntos**"
   ]
  },
  {
   "cell_type": "code",
   "execution_count": 22,
   "metadata": {
    "slideshow": {
     "slide_type": "skip"
    }
   },
   "outputs": [
    {
     "data": {
      "image/png": "[encoded data removed]",
      "text/plain": [
       "<Figure size 432x288 with 1 Axes>"
      ]
     },
     "metadata": {
      "needs_background": "light"
     },
     "output_type": "display_data"
    }
   ],
   "source": [
    "f = lambda x: numpy.sin(x)\n",
    "f_prime = lambda x: numpy.cos(x)\n",
    "\n",
    "# Use uniform discretization\n",
    "x = numpy.linspace(-2 * numpy.pi, 2 * numpy.pi, 1000)\n",
    "N = 20\n",
    "\n",
    "x_hat = numpy.linspace(-2 * numpy.pi, 2 * numpy.pi, N)\n",
    "delta_x = x_hat[1] - x_hat[0]\n",
    "\n",
    "# Se calcula la diferencia centrada\n",
    "f_prime_hat = numpy.empty(x_hat.shape)\n",
    "f_prime_hat[1:-1] = (f(x_hat[2:]) - f(x_hat[:-2])) / (2 * delta_x)\n",
    "\n",
    "# Para los límites se usa la diferencia hacia atras y adelante\n",
    "f_prime_hat[0] = (f(x_hat[1]) - f(x_hat[0])) / delta_x     # hacia adelante en x_0\n",
    "f_prime_hat[-1] = (f(x_hat[-1]) - f(x_hat[-2])) / delta_x  # hacia atras en x_N\n",
    "\n",
    "fig = plt.figure()\n",
    "axes = fig.add_subplot(1, 1, 1)\n",
    "\n",
    "axes.plot(x, f_prime(x), 'k')\n",
    "axes.plot(x_hat, f_prime_hat, 'ro')\n",
    "axes.set_xlim((x[0], x[-1]))\n",
    "# axes.set_ylim((-1.1, 1.1))\n",
    "\n",
    "plt.show()"
   ]
  },
  {
   "cell_type": "markdown",
   "metadata": {},
   "source": [
    "### Ahora trabajaremos la segunda derivada centrada con la ecuación del libro ...\n",
    "\n",
    "$f''(x) = \\frac{f_{n+1} -2 f_{n} + f_{n-1}}{\\Delta x^2}$\n",
    "\n",
    "aquí también asumimos **intervalos $\\Delta x$ iguales**"
   ]
  },
  {
   "cell_type": "code",
   "execution_count": 24,
   "metadata": {
    "slideshow": {
     "slide_type": "skip"
    }
   },
   "outputs": [
    {
     "data": {
      "image/png": "[encoded data removed]",
      "text/plain": [
       "<Figure size 432x288 with 1 Axes>"
      ]
     },
     "metadata": {
      "needs_background": "light"
     },
     "output_type": "display_data"
    }
   ],
   "source": [
    "f = lambda x: numpy.sin(x)\n",
    "#la segunda derivada del seno(x) es -seno(x)\n",
    "f_dubl_prime = lambda x: -numpy.sin(x)\n",
    "\n",
    "# Discretización uniforme\n",
    "x = numpy.linspace(-2 * numpy.pi, 2 * numpy.pi, 1000)\n",
    "N = 10\n",
    "x_hat = numpy.linspace(-2 * numpy.pi, 2 * numpy.pi, N)\n",
    "delta_x = x_hat[1] - x_hat[0]\n",
    "\n",
    "# Compute derivative\n",
    "f_dubl_prime_hat = numpy.empty(x_hat.shape)\n",
    "f_dubl_prime_hat[1:-1] = (f(x_hat[2:]) -2.0 * f(x_hat[1:-1]) + f(x_hat[:-2])) / (delta_x**2)\n",
    "\n",
    "# Use first-order differences for points at edge of domain\n",
    "f_dubl_prime_hat[0] = (2.0 * f(x_hat[0]) - 5.0 * f(x_hat[1]) + 4.0 * f(x_hat[2]) - f(x_hat[3])) / delta_x**2\n",
    "f_dubl_prime_hat[-1] = (2.0 * f(x_hat[-1]) - 5.0 * f(x_hat[-2]) + 4.0 * f(x_hat[-3]) - f(x_hat[-4])) / delta_x**2\n",
    "\n",
    "fig = plt.figure()\n",
    "axes = fig.add_subplot(1, 1, 1)\n",
    "\n",
    "axes.plot(x, f_dubl_prime(x), 'k')\n",
    "axes.plot(x_hat, f_dubl_prime_hat, 'ro')\n",
    "axes.set_xlim((x[0], x[-1]))\n",
    "axes.set_ylim((-1.1, 1.1))\n",
    "\n",
    "plt.show()"
   ]
  },
  {
   "cell_type": "code",
   "execution_count": null,
   "metadata": {},
   "outputs": [],
   "source": []
  }
 ],
 "metadata": {
  "celltoolbar": "Slideshow",
  "kernelspec": {
   "display_name": "Python 3",
   "language": "python",
   "name": "python3"
  },
  "language_info": {
   "codemirror_mode": {
    "name": "ipython",
    "version": 3
   },
   "file_extension": ".py",
   "mimetype": "text/x-python",
   "name": "python",
   "nbconvert_exporter": "python",
   "pygments_lexer": "ipython3",
   "version": "3.7.6"
  },
  "latex_envs": {
   "bibliofile": "biblio.bib",
   "cite_by": "apalike",
   "current_citInitial": 1,
   "eqLabelWithNumbers": true,
   "eqNumInitial": 0
  }
 },
 "nbformat": 4,
 "nbformat_minor": 1
}
